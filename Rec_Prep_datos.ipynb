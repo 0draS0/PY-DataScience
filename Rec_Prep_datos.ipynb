{
 "cells": [
  {
   "cell_type": "markdown",
   "id": "48a64b89",
   "metadata": {},
   "source": [
    "# PANDAS\n",
    "\n",
    "Lo importamos con la siguiente línea de código: <code>import pandas as pd</code>.\n",
    "\n",
    "- Librería para leer y manipular datos. Su principal elemento es el el DataFrame.\n",
    "- <b>Dataframe</b>:Los dataframes son estructuras de datos de dos dimensiones que pueden contener datos de diferentes tipos. Esta estructura es la más usada para realizar análisis de datos.\n",
    "- El eje 0 son filas (rows) y el eje 1 columnas (columns).\n",
    "- Funciones importantes:\n",
    "    - <code>df.head()</code> &rarr; Trae los primeros 5 elementos del dataframe así como el nombre de las columnas que lo conforman.\n",
    "    - <code>df.describe()</code> &rarr; Muestra la información importante sobre los datos dentro del dataframe.\n",
    "    - <code>df.drop()</code> &rarr; Busca el elemento a partir de su etiqueta y lo elimina. Otra línea importante: <code>df.drop(X).head</code>\n",
    "    - <code>df.drop(\"name_column\",axis=1)</code> &rarr; Elimina la columna indicada. Otra línea importante: <code>df.drop(\"cp\",axis=1).head()</code>.\n",
    "    - <code>df.loc[[0,1,5]]</code> &rarr; Selecciona y muestra la lista de rengoles indicados.\n",
    "    - <code>df.iloc[0:5]</code> &rarr; Selecciona un rango de renglones.\n",
    "        - <code>df.iloc[:,[0,1,-1]]</code> &rarr; Selecciona y muestra \" : \" todas las filas (se utiliza notación de Listas). La \",\" indica el inicio de selección de columnas que en este caso se seleccionó una lista que muestra la primera y segunda columna junto con la últma del conjunto del DataFrame.\n",
    "    - <code>df[\"sex\"].head()</code> &rarr; Selecciona y muestra una columna dentro de la función HEAD.\n",
    "    - <code>df[[\"age\",\"sex\",\"target\"]]</code> &rarr; Selecciona y muestra las columnas indicadas en la lista.\n",
    "    - <code>df[df[\"sex\"] == 1]</code> &rarr; Utiliza condicionales para extraer determinada iformación. En este caso, traerá todas las filas cuyo dato en la columna _Sex_ sea igual a _1_.\n",
    "    - <code>df.sort_values(by=\"chol\")</code> &rarr; Ordena los valores del DF considerando de menor a mayor los datos de la columna _chol_."
   ]
  },
  {
   "cell_type": "markdown",
   "id": "301013c2",
   "metadata": {},
   "source": [
    "### Lectura de archivos de EXCEL\n",
    "\n",
    "1. Importar la librería de pandas\n",
    "2. Para la lectura de estos archivos, utilizamos la línea <code> pd.read_excel(\"heart.xlsx\")</code> donde, pd es la convención de nombre que se le da a la librería."
   ]
  },
  {
   "cell_type": "markdown",
   "id": "35a98b28",
   "metadata": {},
   "source": [
    "### Series de tiempo\n",
    "\n",
    "Es el conjunto de datos estadísticos observados y recopilados durante intervalos regulares de tiempo. Otra definición que tenemos sobre las series es:\n",
    "<i>Una serie de tiempo es una secuencia de datos, observaciones o valores, medidos en determinados momentos y ordenados cronológicamente</i>"
   ]
  },
  {
   "cell_type": "markdown",
   "id": "97a08320",
   "metadata": {},
   "source": [
    "### WebBrowser\n",
    "\n",
    "Proporciona una interfaz de alto nivel para permitir la visualización de documentos Web a los usuarios. Se llama con la siguiente línea de comando:\n",
    "<br>\n",
    "<code>webbrowser.open('www.google.com')</code>\n",
    "<br>\n",
    "- Es utilizada para llamar alguna página previamente diseñada para que el usuario visualice determinada información."
   ]
  },
  {
   "cell_type": "markdown",
   "id": "994c7d2d",
   "metadata": {},
   "source": [
    "# REQUEST\n",
    "\n",
    "La librería de solicitudes es el estándar para realizar solicitudes HTTP en Python. Resume las complejidades de realizar solicitudes detrás de comandos simples para que pueda concentrarse en interactuar con los servicios y consumir datos en su aplicación o proyecto.\n",
    "- Es la librería más imporante que permite extraer datos y manipularlos desde caché.\n",
    "- Las funciones importantes son:\n",
    "    - <code>import request</code> &rarr; Para importar la librería.\n",
    "    - <code>requests.get('https://automatetheboringstuff.com/files/rj.txt')</code> &rarr; Extrae información de la página.\n",
    "    - <code>resquests.status_code == requests.codes.ok</code>  &rarr; Nos permite verificar si el estado obtenido de imprimir el get anterior se ejecuto de manera correcta comparando con los códigos de verificación que incluye la librería.\n",
    "    - <code>len(res.text)</code> &rarr; Extrae la cantidad de palabras en el texto.\n",
    "    - <code>print(res.text)</code> &rarr; Imprime lo que se ha guardado en la variable res.\n",
    "\n",
    "#### Lineas de codigo importantes\n",
    "- <code>from datetime import datetime as dt</code> &rarr; Importa la librería que nos permite extraer segundos y manipular utilizando formatos de fechas.\n",
    "- <code>dt.utcnow()</code> &rarr; Extraer la fecha actual desde el ordenador.\n",
    "- <code>dt.utcnow().timestamp()</code> &rarr; Extrae el valor númerico de los segundos a partir de una fecha determinada.\n",
    "- <code>dt.strptime('01-01-2019', '%d-%m-%Y')</code> &rarr; Convierte el formato String a Datetime.\n",
    "- <code>requests.Session()</code> &rarr; Guarda la cookies de la visita del sitio.\n",
    "- <code>.format(stock)</code> &rarr; Inserta el dato de una variable en el formato que solicita la URL.\n",
    "    - Está función se implementa cuando en la URL existen {}, para reemplazar con la información que tiene la variable.\n",
    "        - <code>requests.get('link', headers={'User-Agent': 'Custom'})</code> &rarr; Diccionario de encabezados HTTP para enviar con el archivo Request.\n",
    "            - <b>NOTA IMPORANTE:</b> Consulta este sitio para obtener el agente. https://stackoverflow.com/questions/47506092/python-requests-get-always-get-404"
   ]
  },
  {
   "cell_type": "markdown",
   "id": "293e7508",
   "metadata": {},
   "source": [
    "# Beautiful Soup\n",
    "\n",
    "Librería que nos ayuda a comprender páginas web que no permiten descarga\n",
    "- <code>from bs4 import BeautifulSoup</code> &rarr; Importación de la librería.\n",
    "- Primero se genera una consulta a la pagina con la librería <i>requests</i> extrayendo el texto de la consulta del URL.\n",
    "- <code>soup = BeautifulSoup(res.content)</code> &rarr; Analiza y estructura la información de la página.\n",
    "- <code>table = soup.find_all('table')</code> &rarr; Busca TODA coincidencia dentro del texto. En este caso esta buscando todas las variables <i>table</i> de HTML y su contenido.\n"
   ]
  }
 ],
 "metadata": {
  "kernelspec": {
   "display_name": "Python 3 (ipykernel)",
   "language": "python",
   "name": "python3"
  },
  "language_info": {
   "codemirror_mode": {
    "name": "ipython",
    "version": 3
   },
   "file_extension": ".py",
   "mimetype": "text/x-python",
   "name": "python",
   "nbconvert_exporter": "python",
   "pygments_lexer": "ipython3",
   "version": "3.9.7"
  }
 },
 "nbformat": 4,
 "nbformat_minor": 5
}
