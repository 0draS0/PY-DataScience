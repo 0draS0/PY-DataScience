{
 "cells": [
  {
   "cell_type": "markdown",
   "id": "2cbe12ee",
   "metadata": {},
   "source": [
    "# Manejo de bases de datos (SQL Lite 3)\n",
    "\n",
    "- <code>import sqlite3</code> &rarr; Importación de la librería.\n",
    "- <code>db_file = 'data/soccer/database.sqlite'\n",
    "conn = sqlite3.connect(db_file)</code> &rarr; Sentencia de conección con SQL\n",
    "- <code>cursorObj = conn.cursor()</code> &rarr; Crea un cursor que selecciona un solo dato entre las columnas y filas de la tabla.\n",
    "- <code>conn.execute('INSERT INTO Country values (?,?)', (2,'México'))</code> &rarr; Inserta valores en la tabla _country_, donde los signos de interrogación son remplazados por la información externa.\n",
    "    - Las sentencias habituales en SQL se ejecutan con la sentencia anterior.\n",
    "    \n",
    "## Sentencias importantes con PANDAS\n",
    "<b>NOTA IMPORTANTE:</b> Siempre se importa la librería antes de utilizar los siguientes códigos.\n",
    "- <code>df =  pd.read_sql(q,conn)</code>\n",
    "    - Donde _q_ &rarr; <code> q = '''SELECT League.name,Match.home_team_goal,Match.away_team_goal,Match.date FROM League INNER JOIN Match ON Match.league_id==League.id ''' </code>\n",
    "    - Donde _conn_ &rarr; <code>conn = sqlite3.connect(db_file)</code>\n",
    "- Utilizar esta librería permite manejar todas las herramientas de PANDAS con la base de datos, simplificando algunas sentencias SQL con comandos definidos como _.head()_,_.sort_values()_,etc."
   ]
  }
 ],
 "metadata": {
  "kernelspec": {
   "display_name": "Python 3 (ipykernel)",
   "language": "python",
   "name": "python3"
  },
  "language_info": {
   "codemirror_mode": {
    "name": "ipython",
    "version": 3
   },
   "file_extension": ".py",
   "mimetype": "text/x-python",
   "name": "python",
   "nbconvert_exporter": "python",
   "pygments_lexer": "ipython3",
   "version": "3.9.7"
  }
 },
 "nbformat": 4,
 "nbformat_minor": 5
}
