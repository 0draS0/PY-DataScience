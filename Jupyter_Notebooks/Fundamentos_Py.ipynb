{
 "cells": [
  {
   "cell_type": "markdown",
   "id": "a7be1814",
   "metadata": {},
   "source": [
    "# Fundamentos de Python\n",
    "\n",
    "## Tipos de datos y estructuras de Control\n",
    "\n",
    "Definiciones importantes:\n",
    "- Data point: Instancias individuales de datos.\n",
    "- Dataset: Conjunto estructurado de Data Points.\n",
    "\n",
    "<br>\n",
    "Variables:\n",
    "<ul type = \"circle\">\n",
    "\t<li>Númericas</li>\n",
    "\t<ul>\n",
    "\t\t<li> Discretos: Se cuantifican con números enteros. Es <i>discreta</i> si la variable se puede <b>contar</b>. </li>\n",
    "\t\t<li> Continuas: Números con puntos flotantes. Es <i>continua</i> si la variable se puede <b>medir</b>.</li>\n",
    "    </ul>\n",
    "\t<li>Categóricas: Cualidades del objeto del estudio. A los elementos se les puede asignar un identificador númerico, este no es una organización de jerarquización.</li>\n",
    "\t<li>Ordinales: Datos categóricos ordenados jerárquicamente.</li>\n",
    "\t<li>Texto: Campos de texto sin una estructura establecida</li>\n",
    "</ul>\n",
    "\n",
    "<br>\n",
    "Nota importante: Py no requiere la definición de un tipo de variable, puede reconocerlo su clase."
   ]
  },
  {
   "cell_type": "markdown",
   "id": "91e79872",
   "metadata": {},
   "source": [
    "### Reto"
   ]
  },
  {
   "cell_type": "code",
   "execution_count": 5,
   "id": "6c9ac3ee",
   "metadata": {},
   "outputs": [
    {
     "name": "stdout",
     "output_type": "stream",
     "text": [
      "Int 12\n",
      "<class 'int'>\n"
     ]
    }
   ],
   "source": [
    "x = 12\n",
    "print (\"Int\", x)\n",
    "print (type(x))"
   ]
  },
  {
   "cell_type": "code",
   "execution_count": 6,
   "id": "ab566d92",
   "metadata": {},
   "outputs": [
    {
     "name": "stdout",
     "output_type": "stream",
     "text": [
      "float 12.2\n",
      "<class 'float'>\n"
     ]
    }
   ],
   "source": [
    "x = 12.2\n",
    "print (\"float\", x)\n",
    "print (type(x))"
   ]
  },
  {
   "cell_type": "code",
   "execution_count": 7,
   "id": "348339e7",
   "metadata": {},
   "outputs": [
    {
     "ename": "NameError",
     "evalue": "name 'Hola' is not defined",
     "output_type": "error",
     "traceback": [
      "\u001b[1;31m---------------------------------------------------------------------------\u001b[0m",
      "\u001b[1;31mNameError\u001b[0m                                 Traceback (most recent call last)",
      "\u001b[1;32m~\\AppData\\Local\\Temp/ipykernel_9008/4222973042.py\u001b[0m in \u001b[0;36m<module>\u001b[1;34m\u001b[0m\n\u001b[1;32m----> 1\u001b[1;33m \u001b[0ma\u001b[0m \u001b[1;33m=\u001b[0m \u001b[0mHola\u001b[0m\u001b[1;33m\u001b[0m\u001b[1;33m\u001b[0m\u001b[0m\n\u001b[0m\u001b[0;32m      2\u001b[0m \u001b[0mprint\u001b[0m \u001b[1;33m(\u001b[0m\u001b[1;34m\"String\"\u001b[0m\u001b[1;33m,\u001b[0m \u001b[0ma\u001b[0m\u001b[1;33m)\u001b[0m\u001b[1;33m\u001b[0m\u001b[1;33m\u001b[0m\u001b[0m\n\u001b[0;32m      3\u001b[0m \u001b[0mprint\u001b[0m \u001b[1;33m(\u001b[0m\u001b[0mtype\u001b[0m\u001b[1;33m(\u001b[0m\u001b[0ma\u001b[0m\u001b[1;33m)\u001b[0m\u001b[1;33m)\u001b[0m\u001b[1;33m\u001b[0m\u001b[1;33m\u001b[0m\u001b[0m\n",
      "\u001b[1;31mNameError\u001b[0m: name 'Hola' is not defined"
     ]
    }
   ],
   "source": [
    "a = Hola\n",
    "print (type(a))\n",
    "\n",
    "# Este elemento no se puede imprimir, no tiene el uso de comillas para definir que es de tipo String"
   ]
  },
  {
   "cell_type": "code",
   "execution_count": 8,
   "id": "911ae884",
   "metadata": {},
   "outputs": [
    {
     "name": "stdout",
     "output_type": "stream",
     "text": [
      "String Mundo\n",
      "<class 'str'>\n"
     ]
    }
   ],
   "source": [
    "a = \"Mundo\"\n",
    "print (\"String\", a)\n",
    "print (type(a))"
   ]
  },
  {
   "cell_type": "code",
   "execution_count": 9,
   "id": "e2dbce68",
   "metadata": {},
   "outputs": [
    {
     "ename": "NameError",
     "evalue": "name 'b' is not defined",
     "output_type": "error",
     "traceback": [
      "\u001b[1;31m---------------------------------------------------------------------------\u001b[0m",
      "\u001b[1;31mNameError\u001b[0m                                 Traceback (most recent call last)",
      "\u001b[1;32m~\\AppData\\Local\\Temp/ipykernel_9008/1651066123.py\u001b[0m in \u001b[0;36m<module>\u001b[1;34m\u001b[0m\n\u001b[1;32m----> 1\u001b[1;33m \u001b[0mstrn\u001b[0m \u001b[1;33m=\u001b[0m \u001b[0mb\u001b[0m\u001b[1;33m\u001b[0m\u001b[1;33m\u001b[0m\u001b[0m\n\u001b[0m\u001b[0;32m      2\u001b[0m \u001b[0mprint\u001b[0m \u001b[1;33m(\u001b[0m\u001b[0mtype\u001b[0m\u001b[1;33m(\u001b[0m\u001b[0mstrn\u001b[0m\u001b[1;33m)\u001b[0m\u001b[1;33m)\u001b[0m\u001b[1;33m\u001b[0m\u001b[1;33m\u001b[0m\u001b[0m\n\u001b[0;32m      3\u001b[0m \u001b[1;33m\u001b[0m\u001b[0m\n\u001b[0;32m      4\u001b[0m \u001b[1;31m# Este elemento no se puede imprimir, no tiene el uso de comillas para definir que es de tipo String\u001b[0m\u001b[1;33m\u001b[0m\u001b[1;33m\u001b[0m\u001b[0m\n",
      "\u001b[1;31mNameError\u001b[0m: name 'b' is not defined"
     ]
    }
   ],
   "source": [
    "strn = b\n",
    "print (type(strn))\n",
    "\n",
    "# Este elemento no se puede imprimir, no tiene el uso de comillas para definir que es de tipo String"
   ]
  },
  {
   "cell_type": "code",
   "execution_count": 10,
   "id": "a469f519",
   "metadata": {},
   "outputs": [
    {
     "name": "stdout",
     "output_type": "stream",
     "text": [
      "Int 25\n",
      "<class 'int'>\n"
     ]
    }
   ],
   "source": [
    "x =  12 + 12+1\n",
    "print (\"Int\", x)\n",
    "print (type(x))"
   ]
  },
  {
   "cell_type": "code",
   "execution_count": 11,
   "id": "11f0ad19",
   "metadata": {},
   "outputs": [
    {
     "name": "stdout",
     "output_type": "stream",
     "text": [
      "Complex (24+1j)\n",
      "<class 'complex'>\n"
     ]
    }
   ],
   "source": [
    "x =  12 + 12+1j\n",
    "print (\"Complex\", x)\n",
    "print (type(x))"
   ]
  },
  {
   "cell_type": "code",
   "execution_count": 12,
   "id": "5c8f2080",
   "metadata": {},
   "outputs": [
    {
     "name": "stdout",
     "output_type": "stream",
     "text": [
      "Boolean True\n",
      "<class 'bool'>\n"
     ]
    }
   ],
   "source": [
    "a =  True\n",
    "print (\"Boolean\", a)\n",
    "print (type(a))"
   ]
  },
  {
   "cell_type": "code",
   "execution_count": 13,
   "id": "8accb982",
   "metadata": {},
   "outputs": [
    {
     "ename": "NameError",
     "evalue": "name 'false' is not defined",
     "output_type": "error",
     "traceback": [
      "\u001b[1;31m---------------------------------------------------------------------------\u001b[0m",
      "\u001b[1;31mNameError\u001b[0m                                 Traceback (most recent call last)",
      "\u001b[1;32m~\\AppData\\Local\\Temp/ipykernel_9008/615778284.py\u001b[0m in \u001b[0;36m<module>\u001b[1;34m\u001b[0m\n\u001b[1;32m----> 1\u001b[1;33m \u001b[0ma\u001b[0m \u001b[1;33m=\u001b[0m  \u001b[0mfalse\u001b[0m\u001b[1;33m\u001b[0m\u001b[1;33m\u001b[0m\u001b[0m\n\u001b[0m\u001b[0;32m      2\u001b[0m \u001b[0mprint\u001b[0m \u001b[1;33m(\u001b[0m\u001b[0mtype\u001b[0m\u001b[1;33m(\u001b[0m\u001b[0ma\u001b[0m\u001b[1;33m)\u001b[0m\u001b[1;33m)\u001b[0m\u001b[1;33m\u001b[0m\u001b[1;33m\u001b[0m\u001b[0m\n\u001b[0;32m      3\u001b[0m \u001b[1;33m\u001b[0m\u001b[0m\n\u001b[0;32m      4\u001b[0m \u001b[1;31m# Este elemento no se puede definir, ya que no cumple con la estructura de la palabra reservada para el bool de falso\u001b[0m\u001b[1;33m\u001b[0m\u001b[1;33m\u001b[0m\u001b[0m\n",
      "\u001b[1;31mNameError\u001b[0m: name 'false' is not defined"
     ]
    }
   ],
   "source": [
    "a =  false\n",
    "print (type(a))\n",
    "\n",
    "# Este elemento no se puede definir, ya que no cumple con la estructura de la palabra reservada para el bool de falso"
   ]
  },
  {
   "cell_type": "markdown",
   "id": "680d5748",
   "metadata": {},
   "source": [
    "### Función <i>Print()</i>"
   ]
  },
  {
   "cell_type": "markdown",
   "id": "0f896630",
   "metadata": {},
   "source": [
    "- Podemos utilizar una coma para separar el contenido que se va a imprimir\n",
    "- Podemos utiliza <i>sep=\"-\"</i> dentro de los elementos a imprimir para indicar que el tipo de espacio entre cada elementos es un guión\n",
    "- Para el uso de indices, utilizamos <i>print (msj [1])</i>.\n",
    "    - Aquí podemos utilizar indices negativos, que recorren la cadena de derecha a izquierda.\n",
    "    - El uso de <i>:</i> indica un rango de elementos que recorrera. Por ejemplo <i>print (msj [1:8])</i>.\n",
    "        - Dentro del rango podemos indicar la frecuencia de saltos entre los caracteres, por ejemplo <i>print (msj [1:8:2])</i>, donde <b>1</b> indica el inicio del rango, <b>8</b> el fin del rango y <b>2</b> el salto que dará entre esos carácteres.\n",
    "        - Si no se indica el inicio y fin del rango, PY tomará el lugar 0 y el final de la cadena (es decir, toda la cadena) como el rango a trabajar."
   ]
  },
  {
   "cell_type": "markdown",
   "id": "4c378dc5",
   "metadata": {},
   "source": [
    "### Listas\n",
    "\n",
    "<code>l = [1,2,\"tres\",True]</code>\n",
    "- Son elementos ordenados que nos permiten agrupar un conjunto de información.\n",
    "- Podemos utilizar cualquier tipo de variable dentro de los elementos que conforman la lista.\n",
    "- Aquí también podemos hacer uso de índices. \n",
    "- Funciones para desplegar y manejar información:\n",
    "    - l.append(x) &rarr; Agrega un elemento al final de la lista.\n",
    "    - l.remove(x) &rarr; Buscará al elemento en la lista y lo eliminará.\n",
    "    - l.count(x) &rarr; Muestra la posición en la que se encuentra el elemento.\n",
    "    - l.extend(x) &rarr; Agrega al final de la lista, una o más listas a la lista de trabajo.\n",
    "    - l.insert(y, x) &rarr; Agrega el valor de X en la posición de Y.\n",
    "    - l.pop() &rarr; Elimina el útlimo elemento de la lista.\n",
    "    - l.reverse() &rarr; Invierte directamente el orden de la lista.\n",
    "    - l.sort() &rarr; Ordena los datos dentro de la lista.\n",
    "    - l.sort(reverse = True) &rarr; Ordena la lista de forma inversa.\n",
    "    "
   ]
  },
  {
   "cell_type": "markdown",
   "id": "ce7ee583",
   "metadata": {},
   "source": [
    "### Estructuras de control de flujo y operadores\n",
    "\n",
    "- Operadores relacionales:\n",
    "    |Símbolo|Significado|\n",
    "    |:---: |:---: |\n",
    "    |==|Igual que|\n",
    "    |!=|Distinto que|\n",
    "    |<|Menor que|\n",
    "    |>|Mayor que|\n",
    "    |<=|Menor o igual que|\n",
    "    |>=|Mayor o igual que|\n",
    "    \n",
    "- Operadores lógicos: and , or\n",
    "- Estrucutras condicionales:  if, elif y else.\n",
    "- Estructuras repetitivas/cíclicas: while, for."
   ]
  },
  {
   "cell_type": "markdown",
   "id": "ce547bcb",
   "metadata": {},
   "source": [
    "### Funciones\n",
    "\n",
    "<code> def FUNCION (parámetro1 = XX,parámetro2...):\n",
    "    BLOQUE DE CÓDIGO\n",
    "    return VALOR\n",
    "</code>\n",
    "<br>\n",
    "Son fragmentos de código que agrupan un conjunto de instrucciones y devuelven un valor. Nos ayuda a separar segmentos de código y reciclarlo.   \n",
    "- Los parámetros pueden o no tener parametros con valores preestablecidos. Al llamar a la función, se puede colocar otro valor sobre el primer parametro en caso contrario, PY tomará el predefinido."
   ]
  },
  {
   "cell_type": "markdown",
   "id": "8cdc5b4b",
   "metadata": {},
   "source": [
    "### Tuplas\n",
    "\n",
    "<code> tupla = (1,2,\"tres\",True) </code>\n",
    "<br>\n",
    "Son elementos inmutables, similares a las listas, con la diferencia de utilizar _comas_ para separar los elementos que contiene.\n",
    "- Para definirlas se puede o no utilizar paréntesis, mientras que las listas utilizan corchetes."
   ]
  },
  {
   "cell_type": "markdown",
   "id": "96fff717",
   "metadata": {},
   "source": [
    "### Diccionario\n",
    "\n",
    "<code> d = {\"Key\": \"contenido\",...}</code>\n",
    "- Elementos que almacenan información relacionada con un elemento identificador.\n",
    "- Su contenido se escribe entre llaves.\n",
    "- No tienen un orden definido\n",
    "- Funciones básicas:\n",
    "    - d[\"Texas\"] = \"Austin\" &rarr; Agrega un contenido al diccionario (d).\n",
    "    - d[\"Tamaulipas\"] &rarr; Busca un elemento a partir de su key.\n",
    "    - del(d[\"Texas\"]) &rarr; Elimina el elemento a partir de su key.\n",
    "    - d.keys() &rarr; Muestra los elementos llave del diccionario.\n",
    "    - d.values() &rarr; Muestra la información de los elementos sin su llave."
   ]
  }
 ],
 "metadata": {
  "kernelspec": {
   "display_name": "Python 3 (ipykernel)",
   "language": "python",
   "name": "python3"
  },
  "language_info": {
   "codemirror_mode": {
    "name": "ipython",
    "version": 3
   },
   "file_extension": ".py",
   "mimetype": "text/x-python",
   "name": "python",
   "nbconvert_exporter": "python",
   "pygments_lexer": "ipython3",
   "version": "3.9.7"
  }
 },
 "nbformat": 4,
 "nbformat_minor": 5
}
